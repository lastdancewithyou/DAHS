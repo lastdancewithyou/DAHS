{
 "cells": [
  {
   "cell_type": "code",
   "execution_count": 8,
   "metadata": {},
   "outputs": [
    {
     "name": "stdout",
     "output_type": "stream",
     "text": [
      "True\n",
      "NVIDIA GeForce RTX 4080 SUPER\n"
     ]
    }
   ],
   "source": [
    "import pandas as pd\n",
    "import torch\n",
    "print(torch.cuda.is_available())\n",
    "print(torch.cuda.get_device_name(0))\n",
    "device = torch.device(\"cuda\" if torch.cuda.is_available() else \"cpu\")"
   ]
  },
  {
   "cell_type": "markdown",
   "metadata": {},
   "source": [
    "## pyhealth.Event"
   ]
  },
  {
   "cell_type": "code",
   "execution_count": 19,
   "metadata": {},
   "outputs": [],
   "source": [
    "from pyhealth.data import Event\n",
    "from datetime import datetime"
   ]
  },
  {
   "cell_type": "markdown",
   "metadata": {},
   "source": [
    "- **[Arguments]**:\n",
    "  - ``code`` – str, code of the event (e.g., “428.0” for heart failure)\n",
    "  - ``table`` – str, str, name of the table where the event is recorded. E.g., “DIAGNOSES_ICD”.\n",
    "  - ``vocabulary`` – str, vocabulary of the code (e.g., ‘ICD9CM’, ‘ICD10CM’, ‘NDC’).\n",
    "  - ``visit_id`` – str, unique identifier of the visit.\n",
    "  - ``patient_id`` – str, unique identifier of the patient.\n",
    "  - ``timestamp`` – Optional[datetime], timestamp of the event. Defaults to None.\n",
    "  - ``**attr`` – optional attributes of the event. Attributes to add to visit as key=value pairs.\n",
    "- **[Attributes]**: to show additional attributes\n",
    "    - ``attr_dict``: show the information stored in ****attr**"
   ]
  },
  {
   "cell_type": "code",
   "execution_count": 2,
   "metadata": {},
   "outputs": [
    {
     "name": "stdout",
     "output_type": "stream",
     "text": [
      "Event from patient p001 visit v001:\n",
      "\t- Code: 428.0\n",
      "\t- Table: DIAGNOSES_ICD\n",
      "\t- Vocabulary: ICD9CM\n",
      "\t- Timestamp: 2024-05-20 11:28:02.936396\n"
     ]
    }
   ],
   "source": [
    "event1 = Event(\n",
    "    code=\"428.0\",\n",
    "    table=\"DIAGNOSES_ICD\",\n",
    "    vocabulary=\"ICD9CM\",\n",
    "    visit_id=\"v001\",\n",
    "    patient_id=\"p001\",\n",
    "    timestamp=datetime.now(),\n",
    ")\n",
    "\n",
    "print(event1)"
   ]
  },
  {
   "cell_type": "code",
   "execution_count": 9,
   "metadata": {},
   "outputs": [
    {
     "data": {
      "text/plain": [
       "{'active_on_discharge': True}"
      ]
     },
     "execution_count": 9,
     "metadata": {},
     "output_type": "execute_result"
    }
   ],
   "source": [
    "event2 = Event(\n",
    "    code=\"00069153041\",\n",
    "    table=\"PRESCRIPTIONS\",\n",
    "    vocabulary=\"NDC\",\n",
    "    visit_id=\"v001\",\n",
    "    patient_id=\"p001\",\n",
    "    timestamp=datetime.now(),\n",
    "    # addtional value를 dict 형태로 추가할 수 있음\n",
    "    active_on_discharge = True,\n",
    ")\n",
    "\n",
    "event2.attr_dict"
   ]
  },
  {
   "cell_type": "code",
   "execution_count": 10,
   "metadata": {},
   "outputs": [
    {
     "name": "stdout",
     "output_type": "stream",
     "text": [
      "Event from patient 103 visit 130744:\n",
      "\t- Code: 00069153041\n",
      "\t- Table: PRESCRIPTIONS\n",
      "\t- Vocabulary: NDC\n",
      "\t- Timestamp: 2019-08-12 00:00:00\n",
      "\t- dosage: 250mg\n"
     ]
    }
   ],
   "source": [
    "event3 = Event(\n",
    "    code = \"00069153041\",\n",
    "    table = \"PRESCRIPTIONS\",\n",
    "    vocabulary = \"NDC\",\n",
    "    visit_id = \"130744\",\n",
    "    patient_id = \"103\",\n",
    "    timestamp = datetime.fromisoformat(\"2019-08-12 00:00:00\"),\n",
    "    dosage = \"250mg\"\n",
    ")\n",
    "print(event3)"
   ]
  },
  {
   "cell_type": "markdown",
   "metadata": {},
   "source": [
    "## pyhealth.Visit"
   ]
  },
  {
   "cell_type": "code",
   "execution_count": 11,
   "metadata": {},
   "outputs": [],
   "source": [
    "from pyhealth.data import Visit\n",
    "from datetime import datetime, timedelta"
   ]
  },
  {
   "cell_type": "markdown",
   "metadata": {},
   "source": [
    "- **[Arguments]**:\n",
    "  - ``visit_id`` – str, unique identifier of the visit.\n",
    "  - ``patient_id`` – str, unique identifier of the patient.\n",
    "  - ``encounter_time`` – Optional[datetime], timestamp of visit’s encounter. Defaults to None.\n",
    "  - ``discharge_time`` – Optional[datetime], timestamp of visit’s discharge. Defaults to None.\n",
    "  - ``discharge_status`` - Optional, patient’s status upon discharge. E.g., “Alive”, “Dead”. Defaults to None.\n",
    "  - ``**attr`` – optional attributes of the visit. Attributes to add to visit as key=value pairs.\n",
    "\n",
    "- **[Atrributes]**\n",
    "  - `available_tables`: Returns a list of available tables for the visit.\n",
    "  - `num_events`: Returns the total number of events in the visit.\n",
    "- **[Methods]**\n",
    "  - `add_event()`: Adds an event to the visit.\n",
    "  - `get_evet_list()`: Returns a list of events from a specific table.\n",
    "  - `get_code_list()`: Returns a list of codes from a specific table."
   ]
  },
  {
   "cell_type": "code",
   "execution_count": 12,
   "metadata": {},
   "outputs": [
    {
     "name": "stdout",
     "output_type": "stream",
     "text": [
      "Visit v001 from patient p001 with 2 events:\n",
      "\t- Encounter time: 2024-05-18 11:33:08.162798\n",
      "\t- Discharge time: 2024-05-19 11:33:08.162798\n",
      "\t- Discharge status: Alive\n",
      "\t- Available tables: ['DIAGNOSES_ICD', 'PRESCRIPTIONS']\n",
      "\t- Event from patient p001 visit v001:\n",
      "\t\t- Code: 428.0\n",
      "\t\t- Table: DIAGNOSES_ICD\n",
      "\t\t- Vocabulary: ICD9CM\n",
      "\t\t- Timestamp: 2024-05-20 11:28:02.936396\n",
      "\t- Event from patient p001 visit v001:\n",
      "\t\t- Code: 00069153041\n",
      "\t\t- Table: PRESCRIPTIONS\n",
      "\t\t- Vocabulary: NDC\n",
      "\t\t- Timestamp: 2024-05-20 11:32:13.433763\n",
      "\t\t- active_on_discharge: True\n"
     ]
    }
   ],
   "source": [
    "visit1 = Visit(\n",
    "    visit_id = \"v001\",\n",
    "    patient_id = \"p001\", \n",
    "    encounter_time = datetime.now() - timedelta(days=2),\n",
    "    discharge_time = datetime.now() - timedelta(days=1),\n",
    "    discharge_status = \"Alive\"\n",
    ")\n",
    "\n",
    "# visit1에 앞서 저장했던 event1과 event2를 추가함\n",
    "visit1.add_event(event1)\n",
    "visit1.add_event(event2)\n",
    "\n",
    "print(visit1)"
   ]
  },
  {
   "cell_type": "code",
   "execution_count": 13,
   "metadata": {},
   "outputs": [
    {
     "name": "stdout",
     "output_type": "stream",
     "text": [
      "['DIAGNOSES_ICD', 'PRESCRIPTIONS']\n"
     ]
    }
   ],
   "source": [
    "print(visit1.available_tables)"
   ]
  },
  {
   "cell_type": "code",
   "execution_count": 14,
   "metadata": {},
   "outputs": [
    {
     "name": "stdout",
     "output_type": "stream",
     "text": [
      "2\n"
     ]
    }
   ],
   "source": [
    "print(visit1.num_events)"
   ]
  },
  {
   "cell_type": "code",
   "execution_count": 15,
   "metadata": {},
   "outputs": [
    {
     "name": "stdout",
     "output_type": "stream",
     "text": [
      "[Event with ICD9CM code 428.0 from table DIAGNOSES_ICD]\n",
      "['428.0']\n"
     ]
    }
   ],
   "source": [
    "print(visit1.get_event_list('DIAGNOSES_ICD'))\n",
    "print(visit1.get_code_list('DIAGNOSES_ICD'))"
   ]
  },
  {
   "cell_type": "code",
   "execution_count": 16,
   "metadata": {},
   "outputs": [
    {
     "name": "stdout",
     "output_type": "stream",
     "text": [
      "Visit v002 from patient p001 with 1 events:\n",
      "\t- Encounter time: 2024-05-19 11:33:18.332733\n",
      "\t- Discharge time: 2024-05-20 11:33:18.332733\n",
      "\t- Discharge status: Dead\n",
      "\t- Available tables: ['DIAGNOSES_ICD']\n",
      "\t- Event from patient p001 visit v002:\n",
      "\t\t- Code: 585.9\n",
      "\t\t- Table: DIAGNOSES_ICD\n",
      "\t\t- Vocabulary: ICD9CM\n",
      "\t\t- Timestamp: 2024-05-20 11:33:18.332733\n"
     ]
    }
   ],
   "source": [
    "event3 = Event(\n",
    "    code=\"585.9\",\n",
    "    table=\"DIAGNOSES_ICD\",\n",
    "    vocabulary=\"ICD9CM\",\n",
    "    visit_id=\"v002\",\n",
    "    patient_id=\"p001\",\n",
    "    timestamp=datetime.now(),\n",
    ")\n",
    "\n",
    "visit2 = Visit(\n",
    "    visit_id=\"v002\",\n",
    "    patient_id=\"p001\",\n",
    "    encounter_time=datetime.now() - timedelta(days=1),\n",
    "    discharge_time=datetime.now(),\n",
    "    discharge_status='Dead',\n",
    ")\n",
    "\n",
    "# add events\n",
    "visit2.add_event(event3)\n",
    "\n",
    "# summary\n",
    "print (visit2)"
   ]
  },
  {
   "cell_type": "markdown",
   "metadata": {},
   "source": [
    "## pyhealth.Patient"
   ]
  },
  {
   "cell_type": "code",
   "execution_count": 245,
   "metadata": {},
   "outputs": [],
   "source": [
    "from pyhealth.data import Patient\n",
    "from datetime import datetime, timedelta"
   ]
  },
  {
   "cell_type": "markdown",
   "metadata": {},
   "source": [
    "- **[Arguments]**:\n",
    "  - ``patient_id`` – str, unique identifier of the patient.\n",
    "  - ``birth_datetime`` – Optional[datetime], timestamp of patient’s birth. Defaults to None.\n",
    "  - ``death_datetime`` – Optional[datetime], timestamp of patient’s death. Defaults to None.\n",
    "  - ``gender`` – Optional, gender of the patient. E.g., “M”, “F”. Defaults to None.\n",
    "  - ``ethnicity`` – Optional, ethnicity of the patient. E.g., “White”, “Black or African American”, “American Indian or Alaska Native”, “Asian”, “Native Hawaiian or Other Pacific Islander”. Defaults to None.\n",
    "  - ``**attr`` – optional attributes of the patient. Attributes to add to patient as key=value pairs.\n",
    "\n",
    "- **[Methods]**\n",
    "  - `add_visit()`: Adds a visit to the patient.\n",
    "  - `add_event()`: Adds an event to the patient.\n",
    "  - `get_visit_by_id()`: Returns a visit by visit id.\n",
    "  - `get_visit_by_index()`: Returns a visit by its index.\n",
    "\n",
    "- **[Attributes]**\n",
    "  - `available_tables`: Returns a list of available tables for the patient."
   ]
  },
  {
   "cell_type": "code",
   "execution_count": 20,
   "metadata": {},
   "outputs": [
    {
     "name": "stdout",
     "output_type": "stream",
     "text": [
      "Patient p001 with 2 visits:\n",
      "\t- Birth datetime: 2012-09-16 00:00:00\n",
      "\t- Death datetime: None\n",
      "\t- Gender: F\n",
      "\t- Ethnicity: White\n",
      "\t- Visit v001 from patient p001 with 2 events:\n",
      "\t\t- Encounter time: 2024-05-18 11:33:08.162798\n",
      "\t\t- Discharge time: 2024-05-19 11:33:08.162798\n",
      "\t\t- Discharge status: Alive\n",
      "\t\t- Available tables: ['DIAGNOSES_ICD', 'PRESCRIPTIONS']\n",
      "\t\t- Event from patient p001 visit v001:\n",
      "\t\t\t- Code: 428.0\n",
      "\t\t\t- Table: DIAGNOSES_ICD\n",
      "\t\t\t- Vocabulary: ICD9CM\n",
      "\t\t\t- Timestamp: 2024-05-20 11:28:02.936396\n",
      "\t\t- Event from patient p001 visit v001:\n",
      "\t\t\t- Code: 00069153041\n",
      "\t\t\t- Table: PRESCRIPTIONS\n",
      "\t\t\t- Vocabulary: NDC\n",
      "\t\t\t- Timestamp: 2024-05-20 11:32:13.433763\n",
      "\t\t\t- active_on_discharge: True\n",
      "\t- Visit v002 from patient p001 with 1 events:\n",
      "\t\t- Encounter time: 2024-05-19 11:33:18.332733\n",
      "\t\t- Discharge time: 2024-05-20 11:33:18.332733\n",
      "\t\t- Discharge status: Dead\n",
      "\t\t- Available tables: ['DIAGNOSES_ICD']\n",
      "\t\t- Event from patient p001 visit v002:\n",
      "\t\t\t- Code: 585.9\n",
      "\t\t\t- Table: DIAGNOSES_ICD\n",
      "\t\t\t- Vocabulary: ICD9CM\n",
      "\t\t\t- Timestamp: 2024-05-20 11:33:18.332733\n"
     ]
    }
   ],
   "source": [
    "patient = Patient(\n",
    "    patient_id=\"p001\",\n",
    "    birth_datetime=datetime(2012, 9, 16, 0, 0),\n",
    "    death_datetime=None,\n",
    "    gender=\"F\",\n",
    "    ethnicity=\"White\"\n",
    ")\n",
    "\n",
    "patient.add_visit(visit1)\n",
    "patient.add_visit(visit2)\n",
    "\n",
    "print(patient)"
   ]
  },
  {
   "cell_type": "code",
   "execution_count": 21,
   "metadata": {},
   "outputs": [
    {
     "name": "stdout",
     "output_type": "stream",
     "text": [
      "Visit v001 from patient p001 with 2 events:\n",
      "\t- Encounter time: 2024-05-18 11:33:08.162798\n",
      "\t- Discharge time: 2024-05-19 11:33:08.162798\n",
      "\t- Discharge status: Alive\n",
      "\t- Available tables: ['DIAGNOSES_ICD', 'PRESCRIPTIONS']\n",
      "\t- Event from patient p001 visit v001:\n",
      "\t\t- Code: 428.0\n",
      "\t\t- Table: DIAGNOSES_ICD\n",
      "\t\t- Vocabulary: ICD9CM\n",
      "\t\t- Timestamp: 2024-05-20 11:28:02.936396\n",
      "\t- Event from patient p001 visit v001:\n",
      "\t\t- Code: 00069153041\n",
      "\t\t- Table: PRESCRIPTIONS\n",
      "\t\t- Vocabulary: NDC\n",
      "\t\t- Timestamp: 2024-05-20 11:32:13.433763\n",
      "\t\t- active_on_discharge: True\n"
     ]
    }
   ],
   "source": [
    "print(patient.get_visit_by_index(0))"
   ]
  },
  {
   "cell_type": "code",
   "execution_count": 22,
   "metadata": {},
   "outputs": [
    {
     "name": "stdout",
     "output_type": "stream",
     "text": [
      "Visit v002 from patient p001 with 1 events:\n",
      "\t- Encounter time: 2024-05-19 11:33:18.332733\n",
      "\t- Discharge time: 2024-05-20 11:33:18.332733\n",
      "\t- Discharge status: Dead\n",
      "\t- Available tables: ['DIAGNOSES_ICD']\n",
      "\t- Event from patient p001 visit v002:\n",
      "\t\t- Code: 585.9\n",
      "\t\t- Table: DIAGNOSES_ICD\n",
      "\t\t- Vocabulary: ICD9CM\n",
      "\t\t- Timestamp: 2024-05-20 11:33:18.332733\n"
     ]
    }
   ],
   "source": [
    "print(patient.get_visit_by_index(1))"
   ]
  },
  {
   "cell_type": "markdown",
   "metadata": {},
   "source": [
    "## Mimic 3 dataset"
   ]
  },
  {
   "cell_type": "code",
   "execution_count": 23,
   "metadata": {},
   "outputs": [
    {
     "name": "stdout",
     "output_type": "stream",
     "text": [
      "INFO: Pandarallel will run on 24 workers.\n",
      "INFO: Pandarallel will use standard multiprocessing data transfer (pipe) to transfer data between the main process and workers.\n",
      "\n",
      "WARNING: You are on Windows. If you detect any issue with pandarallel, be sure you checked out the Troubleshooting page:\n",
      "https://nalepae.github.io/pandarallel/troubleshooting/\n",
      "finish basic patient information parsing : 11.5877206325531s\n",
      "finish parsing DIAGNOSES_ICD : 11.218774318695068s\n",
      "finish parsing PROCEDURES_ICD : 9.194064378738403s\n"
     ]
    },
    {
     "name": "stderr",
     "output_type": "stream",
     "text": [
      "Mapping codes: 100%|██████████| 49993/49993 [00:03<00:00, 13205.90it/s]\n"
     ]
    }
   ],
   "source": [
    "from pyhealth.datasets import MIMIC3Dataset\n",
    "\n",
    "mimic3_ds = MIMIC3Dataset(\n",
    "    # Argument 1: It specifies the data folder root.\n",
    "    root=\"https://storage.googleapis.com/pyhealth/Synthetic_MIMIC-III/\", \n",
    "    \n",
    "    # Argument 2: The users need to input a list of raw table names (e.g., DIAGNOSES_ICD.csv, PROCEDURES_ICD.csv).\n",
    "    tables=[\"DIAGNOSES_ICD\", \"PROCEDURES_ICD\"],\n",
    "    \n",
    "    # Argument 3: This argument input a dictionary (key is the source code \n",
    "    # vocabulary and value is the target code vocabulary . \n",
    "    # Default is empty dict, which means the original code will be used.\n",
    "    code_mapping={\"ICD9CM\": \"CCSCM\"},\n",
    ")"
   ]
  },
  {
   "cell_type": "code",
   "execution_count": 24,
   "metadata": {},
   "outputs": [
    {
     "name": "stdout",
     "output_type": "stream",
     "text": [
      "\n",
      "dataset.patients: patient_id -> <Patient>\n",
      "\n",
      "<Patient>\n",
      "    - visits: visit_id -> <Visit> \n",
      "    - other patient-level info\n",
      "    \n",
      "    <Visit>\n",
      "        - event_list_dict: table_name -> List[Event]\n",
      "        - other visit-level info\n",
      "    \n",
      "        <Event>\n",
      "            - code: str\n",
      "            - other event-level info\n",
      "\n"
     ]
    }
   ],
   "source": [
    "mimic3_ds.info()"
   ]
  },
  {
   "cell_type": "code",
   "execution_count": 25,
   "metadata": {},
   "outputs": [
    {
     "name": "stdout",
     "output_type": "stream",
     "text": [
      "\n",
      "Statistics of base dataset (dev=False):\n",
      "\t- Dataset: MIMIC3Dataset\n",
      "\t- Number of patients: 49993\n",
      "\t- Number of visits: 52769\n",
      "\t- Number of visits per patient: 1.0555\n",
      "\t- Number of events per visit in DIAGNOSES_ICD: 9.1038\n",
      "\t- Number of events per visit in PROCEDURES_ICD: 3.2186\n",
      "\n"
     ]
    },
    {
     "data": {
      "text/plain": [
       "'\\nStatistics of base dataset (dev=False):\\n\\t- Dataset: MIMIC3Dataset\\n\\t- Number of patients: 49993\\n\\t- Number of visits: 52769\\n\\t- Number of visits per patient: 1.0555\\n\\t- Number of events per visit in DIAGNOSES_ICD: 9.1038\\n\\t- Number of events per visit in PROCEDURES_ICD: 3.2186\\n'"
      ]
     },
     "execution_count": 25,
     "metadata": {},
     "output_type": "execute_result"
    }
   ],
   "source": [
    "# You can also print the statistics of the entire dataset.\n",
    "mimic3_ds.stat()"
   ]
  },
  {
   "cell_type": "code",
   "execution_count": 26,
   "metadata": {},
   "outputs": [],
   "source": [
    "patient_dict = mimic3_ds.patients"
   ]
  },
  {
   "cell_type": "code",
   "execution_count": 27,
   "metadata": {},
   "outputs": [
    {
     "name": "stdout",
     "output_type": "stream",
     "text": [
      "['1', '10', '100', '1000', '10000', '10001', '10002', '10003', '10004', '10005']\n"
     ]
    }
   ],
   "source": [
    "print(list(patient_dict.keys())[:10])"
   ]
  },
  {
   "cell_type": "code",
   "execution_count": 28,
   "metadata": {},
   "outputs": [
    {
     "data": {
      "text/plain": [
       "('100', Patient 100 with 1 visits)"
      ]
     },
     "execution_count": 28,
     "metadata": {},
     "output_type": "execute_result"
    }
   ],
   "source": [
    "def dict_search(dictionary, n):\n",
    "    # dict를 tuple list 형태로 변환\n",
    "    items_list = list(dictionary.items())\n",
    "    if n < len(items_list):\n",
    "        return items_list[n]\n",
    "    else:\n",
    "        return None\n",
    "    \n",
    "# 3번째 환자 조회\n",
    "dict_search(patient_dict, 2)"
   ]
  },
  {
   "cell_type": "code",
   "execution_count": 29,
   "metadata": {},
   "outputs": [
    {
     "data": {
      "text/plain": [
       "('F', datetime.datetime(1961, 9, 7, 0, 0))"
      ]
     },
     "execution_count": 29,
     "metadata": {},
     "output_type": "execute_result"
    }
   ],
   "source": [
    "# patient_id 1005 환자 조회\n",
    "patient = patient_dict[\"1005\"]\n",
    "patient.gender, patient.birth_datetime"
   ]
  },
  {
   "cell_type": "code",
   "execution_count": 30,
   "metadata": {},
   "outputs": [
    {
     "name": "stdout",
     "output_type": "stream",
     "text": [
      "['101058']\n"
     ]
    }
   ],
   "source": [
    "visit_dict = patient.visits\n",
    "print(list(visit_dict.keys()))"
   ]
  },
  {
   "cell_type": "code",
   "execution_count": 31,
   "metadata": {},
   "outputs": [
    {
     "data": {
      "text/plain": [
       "(datetime.datetime(1962, 3, 15, 0, 0), ['DIAGNOSES_ICD', 'PROCEDURES_ICD'])"
      ]
     },
     "execution_count": 31,
     "metadata": {},
     "output_type": "execute_result"
    }
   ],
   "source": [
    "# patients_visit에서 101058 환자 조회\n",
    "visit = visit_dict['101058']\n",
    "visit.encounter_time, visit.available_tables"
   ]
  },
  {
   "cell_type": "code",
   "execution_count": 32,
   "metadata": {},
   "outputs": [
    {
     "data": {
      "text/plain": [
       "[Event with CCSCM code 98 from table DIAGNOSES_ICD,\n",
       " Event with CCSCM code 238 from table DIAGNOSES_ICD,\n",
       " Event with CCSCM code 239 from table DIAGNOSES_ICD,\n",
       " Event with CCSCM code 661 from table DIAGNOSES_ICD,\n",
       " Event with CCSCM code 52 from table DIAGNOSES_ICD,\n",
       " Event with CCSCM code 2621 from table DIAGNOSES_ICD,\n",
       " Event with CCSCM code 660 from table DIAGNOSES_ICD]"
      ]
     },
     "execution_count": 32,
     "metadata": {},
     "output_type": "execute_result"
    }
   ],
   "source": [
    "visit.get_event_list(\"DIAGNOSES_ICD\")"
   ]
  },
  {
   "cell_type": "markdown",
   "metadata": {},
   "source": [
    "## Pyhealth.tasks"
   ]
  },
  {
   "cell_type": "markdown",
   "metadata": {},
   "source": [
    "This module is used to define the healthcare AI task by task function. The task function specifics how to process each pateint's data (the structured dataset) into a set of samples for the downstream machine learning models."
   ]
  },
  {
   "cell_type": "markdown",
   "metadata": {},
   "source": [
    "- **[Arguments]**: \n",
    "  - `patient`: A [Patient](https://pyhealth.readthedocs.io/en/latest/api/data/pyhealth.data.Patient.html) object.\n",
    "\n",
    "- **[Returns]**: \n",
    "    - `samples`: a list of samples, each sample is a dict with patient_id, visit_id, and other task-specific attributes as key\n",
    "\n",
    "- **[Functionality]**: currently, we provide [the following tasks](https://pyhealth.readthedocs.io/en/latest/api/tasks.html) on the datasets:\n",
    "  - drug_recommendation_mimic3_fn\n",
    "  - readmission_prediction_mimic3_fn\n",
    "  - mortality_prediction_mimic3_fn\n",
    "  - length_of_stay_prediction_mimic3_fn\n",
    "  - We provide similar functions for MIMIC-IV, eICU, and OMOP dataset."
   ]
  },
  {
   "cell_type": "code",
   "execution_count": 33,
   "metadata": {},
   "outputs": [],
   "source": [
    "def mortality_prediction_mimic3_fn(patient):\n",
    "    \"\"\"\n",
    "    Mortality prediction aims at predicting whether the patient will decease in the\n",
    "        next hospital visit based on the clinical information from current visit\n",
    "        (e.g., conditions and procedures).\n",
    "\n",
    "    \"\"\"\n",
    "    samples = []\n",
    "    for visit_idx in range(len(patient) - 1):\n",
    "        visit = patient[visit_idx]\n",
    "        next_visit = patient[visit_idx + 1]\n",
    "\n",
    "        # obtain the label\n",
    "        if next_visit.discharge_status not in [0, 1]:\n",
    "            mortality_label = 0\n",
    "        else:\n",
    "            mortality_label = int(next_visit.discharge_status)\n",
    "\n",
    "        # step 1: obtain features\n",
    "        conditions = visit.get_code_list(table=\"DIAGNOSES_ICD\")\n",
    "        procedures = visit.get_code_list(table=\"PROCEDURES_ICD\")\n",
    "\n",
    "        # step 2: exclusion criteria\n",
    "        if len(conditions) + len(procedures) == 0: continue\n",
    "\n",
    "        # step 3: assemble the sample\n",
    "        # REMEMBER: the key here will be the \"feature_keys\" and \"label_key\" for initializing the downstream model\n",
    "        samples.append(\n",
    "            {\n",
    "                \"visit_id\": visit.visit_id,\n",
    "                \"patient_id\": patient.patient_id,\n",
    "                \"conditions\": conditions, # feature key 1\n",
    "                \"procedures\": procedures, # feature key 2\n",
    "                \"label\": mortality_label, # label key\n",
    "            }\n",
    "        )\n",
    "    \n",
    "    return samples"
   ]
  },
  {
   "cell_type": "code",
   "execution_count": 35,
   "metadata": {},
   "outputs": [
    {
     "name": "stdout",
     "output_type": "stream",
     "text": [
      "INFO: Pandarallel will run on 24 workers.\n",
      "INFO: Pandarallel will use standard multiprocessing data transfer (pipe) to transfer data between the main process and workers.\n",
      "\n",
      "WARNING: You are on Windows. If you detect any issue with pandarallel, be sure you checked out the Troubleshooting page:\n",
      "https://nalepae.github.io/pandarallel/troubleshooting/\n",
      "finish basic patient information parsing : 7.542724847793579s\n",
      "finish parsing DIAGNOSES_ICD : 7.7668633460998535s\n",
      "finish parsing PROCEDURES_ICD : 6.248070240020752s\n"
     ]
    },
    {
     "name": "stderr",
     "output_type": "stream",
     "text": [
      "Mapping codes: 100%|██████████| 1000/1000 [00:00<00:00, 167230.33it/s]\n"
     ]
    }
   ],
   "source": [
    "dataset = MIMIC3Dataset(\n",
    "    root=\"https://storage.googleapis.com/pyhealth/Synthetic_MIMIC-III/\",\n",
    "    tables=[\"DIAGNOSES_ICD\", \"PROCEDURES_ICD\"],\n",
    "    dev=True,\n",
    ")"
   ]
  },
  {
   "cell_type": "code",
   "execution_count": 36,
   "metadata": {},
   "outputs": [
    {
     "name": "stderr",
     "output_type": "stream",
     "text": [
      "Generating samples for mortality_prediction_mimic3_fn: 100%|██████████| 1000/1000 [00:00<00:00, 826138.27it/s]\n"
     ]
    }
   ],
   "source": [
    "# use `.set_task()`, which returns a task dataset\n",
    "task_ds = dataset.set_task(task_fn=mortality_prediction_mimic3_fn)"
   ]
  },
  {
   "cell_type": "code",
   "execution_count": 37,
   "metadata": {},
   "outputs": [
    {
     "name": "stdout",
     "output_type": "stream",
     "text": [
      "Statistics of sample dataset:\n",
      "\t- Dataset: MIMIC3Dataset\n",
      "\t- Task: mortality_prediction_mimic3_fn\n",
      "\t- Number of samples: 53\n",
      "\t- Number of patients: 44\n",
      "\t- Number of visits: 53\n",
      "\t- Number of visits per patient: 1.2045\n",
      "\t- conditions:\n",
      "\t\t- Number of conditions per sample: 10.3962\n",
      "\t\t- Number of unique conditions: 335\n",
      "\t\t- Distribution of conditions (Top-10): [('4019', 14), ('4280', 14), ('25000', 12), ('2851', 9), ('53081', 9), ('41401', 9), ('311', 6), ('2762', 6), ('486', 6), ('2724', 6)]\n",
      "\t- procedures:\n",
      "\t\t- Number of procedures per sample: 2.8679\n",
      "\t\t- Number of unique procedures: 99\n",
      "\t\t- Distribution of procedures (Top-10): [('3893', 11), ('9904', 7), ('8872', 6), ('3995', 5), ('9604', 4), ('3722', 4), ('966', 3), ('9359', 3), ('4513', 2), ('4516', 2)]\n",
      "\t- label:\n",
      "\t\t- Number of label per sample: 1.0000\n",
      "\t\t- Number of unique label: 1\n",
      "\t\t- Distribution of label (Top-10): [(0, 53)]\n"
     ]
    },
    {
     "data": {
      "text/plain": [
       "\"Statistics of sample dataset:\\n\\t- Dataset: MIMIC3Dataset\\n\\t- Task: mortality_prediction_mimic3_fn\\n\\t- Number of samples: 53\\n\\t- Number of patients: 44\\n\\t- Number of visits: 53\\n\\t- Number of visits per patient: 1.2045\\n\\t- conditions:\\n\\t\\t- Number of conditions per sample: 10.3962\\n\\t\\t- Number of unique conditions: 335\\n\\t\\t- Distribution of conditions (Top-10): [('4019', 14), ('4280', 14), ('25000', 12), ('2851', 9), ('53081', 9), ('41401', 9), ('311', 6), ('2762', 6), ('486', 6), ('2724', 6)]\\n\\t- procedures:\\n\\t\\t- Number of procedures per sample: 2.8679\\n\\t\\t- Number of unique procedures: 99\\n\\t\\t- Distribution of procedures (Top-10): [('3893', 11), ('9904', 7), ('8872', 6), ('3995', 5), ('9604', 4), ('3722', 4), ('966', 3), ('9359', 3), ('4513', 2), ('4516', 2)]\\n\\t- label:\\n\\t\\t- Number of label per sample: 1.0000\\n\\t\\t- Number of unique label: 1\\n\\t\\t- Distribution of label (Top-10): [(0, 53)]\""
      ]
     },
     "execution_count": 37,
     "metadata": {},
     "output_type": "execute_result"
    }
   ],
   "source": [
    "task_ds.stat()"
   ]
  },
  {
   "cell_type": "code",
   "execution_count": 38,
   "metadata": {},
   "outputs": [
    {
     "data": {
      "text/plain": [
       "['visit_id', 'patient_id', 'conditions', 'procedures', 'label']"
      ]
     },
     "execution_count": 38,
     "metadata": {},
     "output_type": "execute_result"
    }
   ],
   "source": [
    "task_ds.available_keys"
   ]
  },
  {
   "cell_type": "code",
   "execution_count": 39,
   "metadata": {},
   "outputs": [
    {
     "data": {
      "text/plain": [
       "{'visit_id': '100144',\n",
       " 'patient_id': '141',\n",
       " 'conditions': ['27651',\n",
       "  '311',\n",
       "  '2768',\n",
       "  '07070',\n",
       "  '4928',\n",
       "  '78001',\n",
       "  '8730',\n",
       "  '51889'],\n",
       " 'procedures': ['9604', '370'],\n",
       " 'label': 0}"
      ]
     },
     "execution_count": 39,
     "metadata": {},
     "output_type": "execute_result"
    }
   ],
   "source": [
    "task_ds.samples[0]"
   ]
  },
  {
   "cell_type": "code",
   "execution_count": null,
   "metadata": {},
   "outputs": [],
   "source": [
    "# time_window = 재입원 예측을 위한 시간 단위(예시 코드에는 15일로 설정)\n",
    "def readmission_prediction_mimic4_fn(patient: Patient, time_window=15):\n",
    "    \n",
    "    samples = []\n",
    "\n",
    "    # 마지막 방문을 제외함\n",
    "    for i in range(len(patient) - 1):\n",
    "        visit: Visit = patient[i]\n",
    "        next_visit: Visit = patient[i + 1]\n",
    "\n",
    "        # 방문 간의 시간 차이(다음 방문 - 현재 방문)를 계산하여 재입원 레이블을 생성함\n",
    "        time_diff = (next_visit.encounter_time - visit.encounter_time).days\n",
    "        # time_diff가 time_window(ex.15)보다 작으면 1을 반환, else 0\n",
    "        readmission_label = 1 if time_diff < time_window else 0\n",
    "        \n",
    "\t\t\t\t# diagnoses_icd 테이블에서 해당 visit의 condition에 해당하는 코드를 가져옴\n",
    "        conditions = visit.get_code_list(table=\"diagnoses_icd\")\n",
    "        # procedures_icd 테이블에서 해당 visit의 procedures에 해당하는 코드를 가져옴\n",
    "        procedures = visit.get_code_list(table=\"procedures_icd\")\n",
    "        # prescriptions 테이블에서 해당 visit의 prescriptions에 해당하는 코드를 가져옴\n",
    "        drugs = visit.get_code_list(table=\"prescriptions\")\n",
    "        \n",
    "        # 코드 중 하나만 부재하더라도 해당 방문 데이터는 제외함\n",
    "        if len(conditions) * len(procedures) * len(drugs) == 0:\n",
    "            continue\n",
    "        samples.append(\n",
    "            {\n",
    "                \"visit_id\": visit.visit_id,\n",
    "                \"patient_id\": patient.patient_id,\n",
    "                \"conditions\": [conditions],\n",
    "                \"procedures\": [procedures],\n",
    "                \"drugs\": [drugs],\n",
    "                \"label\": readmission_label,\n",
    "            }\n",
    "        )\n",
    "        \n",
    "    return samples"
   ]
  },
  {
   "cell_type": "markdown",
   "metadata": {},
   "source": [
    "## Mimic 4에 적용"
   ]
  },
  {
   "cell_type": "code",
   "execution_count": 190,
   "metadata": {},
   "outputs": [],
   "source": [
    "# procedures_icd\n",
    "procedures_icd = pd.read_csv(\"C:/Users/gangmin/dahs/data/mimic/hosp/procedures_icd.csv\")\n",
    "procedures_icd.to_parquet('C:/Users/gangmin/dahs/data/mimic/hosp/parquet/procedures_icd.parquet')\n",
    "procedures_icd = pd.read_parquet('C:/Users/gangmin/dahs/data/mimic/hosp/parquet/procedures_icd.parquet')"
   ]
  },
  {
   "cell_type": "code",
   "execution_count": 47,
   "metadata": {},
   "outputs": [
    {
     "data": {
      "text/html": [
       "<div>\n",
       "<style scoped>\n",
       "    .dataframe tbody tr th:only-of-type {\n",
       "        vertical-align: middle;\n",
       "    }\n",
       "\n",
       "    .dataframe tbody tr th {\n",
       "        vertical-align: top;\n",
       "    }\n",
       "\n",
       "    .dataframe thead th {\n",
       "        text-align: right;\n",
       "    }\n",
       "</style>\n",
       "<table border=\"1\" class=\"dataframe\">\n",
       "  <thead>\n",
       "    <tr style=\"text-align: right;\">\n",
       "      <th></th>\n",
       "      <th>subject_id</th>\n",
       "      <th>hadm_id</th>\n",
       "      <th>seq_num</th>\n",
       "      <th>chartdate</th>\n",
       "      <th>icd_code</th>\n",
       "      <th>icd_version</th>\n",
       "    </tr>\n",
       "  </thead>\n",
       "  <tbody>\n",
       "    <tr>\n",
       "      <th>0</th>\n",
       "      <td>10000032</td>\n",
       "      <td>22595853</td>\n",
       "      <td>1</td>\n",
       "      <td>2180-05-07</td>\n",
       "      <td>5491</td>\n",
       "      <td>9</td>\n",
       "    </tr>\n",
       "    <tr>\n",
       "      <th>1</th>\n",
       "      <td>10000032</td>\n",
       "      <td>22841357</td>\n",
       "      <td>1</td>\n",
       "      <td>2180-06-27</td>\n",
       "      <td>5491</td>\n",
       "      <td>9</td>\n",
       "    </tr>\n",
       "    <tr>\n",
       "      <th>2</th>\n",
       "      <td>10000032</td>\n",
       "      <td>25742920</td>\n",
       "      <td>1</td>\n",
       "      <td>2180-08-06</td>\n",
       "      <td>5491</td>\n",
       "      <td>9</td>\n",
       "    </tr>\n",
       "  </tbody>\n",
       "</table>\n",
       "</div>"
      ],
      "text/plain": [
       "   subject_id   hadm_id  seq_num   chartdate icd_code  icd_version\n",
       "0    10000032  22595853        1  2180-05-07     5491            9\n",
       "1    10000032  22841357        1  2180-06-27     5491            9\n",
       "2    10000032  25742920        1  2180-08-06     5491            9"
      ]
     },
     "execution_count": 47,
     "metadata": {},
     "output_type": "execute_result"
    }
   ],
   "source": [
    "procedures_icd[procedures_icd['subject_id']==10000032]"
   ]
  },
  {
   "cell_type": "code",
   "execution_count": 48,
   "metadata": {},
   "outputs": [
    {
     "data": {
      "text/plain": [
       "9     446079\n",
       "10    223107\n",
       "Name: icd_version, dtype: int64"
      ]
     },
     "execution_count": 48,
     "metadata": {},
     "output_type": "execute_result"
    }
   ],
   "source": [
    "procedures_icd['icd_version'].value_counts()"
   ]
  },
  {
   "cell_type": "markdown",
   "metadata": {},
   "source": [
    "## Medcode"
   ]
  },
  {
   "cell_type": "markdown",
   "metadata": {},
   "source": [
    "Currently, we support the following coding systems:\n",
    "\n",
    "- Diagnosis codes:\n",
    "    - ICD9CM\n",
    "    - ICD10CM\n",
    "    - CCSCM\n",
    "- Procedure codes:\n",
    "    - ICD9PROC\n",
    "    - ICD10PROC\n",
    "    - CCSPROC\n",
    "- Medication codes:\n",
    "    - NDC\n",
    "    - RxNorm\n",
    "    - ATC"
   ]
  },
  {
   "cell_type": "code",
   "execution_count": 116,
   "metadata": {},
   "outputs": [],
   "source": [
    "icd_9 = procedures_icd[procedures_icd['icd_version']==9]\n",
    "icd_10 = procedures_icd[procedures_icd['icd_version']==10]"
   ]
  },
  {
   "cell_type": "code",
   "execution_count": 191,
   "metadata": {},
   "outputs": [],
   "source": [
    "from pyhealth.medcode import CrossMap, InnerMap\n",
    "\n",
    "mapping_icd9 = CrossMap.load(source_vocabulary=\"ICD9PROC\", target_vocabulary=\"CCSPROC\")\n",
    "mapping_icd10 = CrossMap.load(source_vocabulary=\"ICD10PROC\", target_vocabulary=\"CCSPROC\")"
   ]
  },
  {
   "cell_type": "code",
   "execution_count": 192,
   "metadata": {},
   "outputs": [],
   "source": [
    "# ICD9PROC & ICD10PROC -> CCSPROC\n",
    "def map_icd_to_ccscm(row):\n",
    "    try :\n",
    "        if row['icd_version'] == 9 :\n",
    "            ccs_code = mapping_icd9.map(row['icd_code'])\n",
    "        elif row['icd_version'] == 10 :\n",
    "            ccs_code = mapping_icd10.map(row['icd_code'])\n",
    "        else : \n",
    "            return 'Unknown'\n",
    "        return ccs_code[0]\n",
    "        \n",
    "    except Exception as e:\n",
    "        return 'Unknown'"
   ]
  },
  {
   "cell_type": "code",
   "execution_count": 108,
   "metadata": {},
   "outputs": [
    {
     "name": "stdout",
     "output_type": "stream",
     "text": [
      "['__class__', '__delattr__', '__dict__', '__dir__', '__doc__', '__eq__', '__format__', '__ge__', '__getattribute__', '__gt__', '__hash__', '__init__', '__init_subclass__', '__le__', '__lt__', '__module__', '__ne__', '__new__', '__reduce__', '__reduce_ex__', '__repr__', '__setattr__', '__sizeof__', '__str__', '__subclasshook__', '__weakref__', 'load', 'map', 'mapping', 's_class', 's_vocab', 't_class', 't_vocab']\n"
     ]
    }
   ],
   "source": [
    "# mapping의 메소드 확인\n",
    "print(dir(mapping_icd9))"
   ]
  },
  {
   "cell_type": "markdown",
   "metadata": {},
   "source": [
    "### Code Mapping\n",
    "\n",
    "`class pyhealth.medcode.CodeMap`\n",
    "- **[Args]**:\n",
    "    - source: source code vocabulary to map from\n",
    "    - target: target code vocabulary to map to\n",
    "\n",
    "- **[Functionality]**:\n",
    "- map(source_code): maps source_code to the target vocabulary\n",
    "\n",
    "Currently, we support the following mapping:\n",
    "\n",
    "- With in diagnosis codes:\n",
    "    - ICD9CM <-> CCSCM\n",
    "    - ICD10CM <-> CCSCM\n",
    "- With in procedure codes:\n",
    "    - ICD9PROC <-> CCSPROC\n",
    "    - ICD10PROC <-> CCSPROC\n",
    "- With in medication codes:\n",
    "    - NDC <-> RxNorm\n",
    "    - NDC <-> ATC\n",
    "    - RxNorm <-> ATC\n",
    "- Between diagnosis and medication codes:\n",
    "    - ATC <-> ICD9CM"
   ]
  },
  {
   "cell_type": "code",
   "execution_count": 193,
   "metadata": {},
   "outputs": [
    {
     "data": {
      "text/html": [
       "<div>\n",
       "<style scoped>\n",
       "    .dataframe tbody tr th:only-of-type {\n",
       "        vertical-align: middle;\n",
       "    }\n",
       "\n",
       "    .dataframe tbody tr th {\n",
       "        vertical-align: top;\n",
       "    }\n",
       "\n",
       "    .dataframe thead th {\n",
       "        text-align: right;\n",
       "    }\n",
       "</style>\n",
       "<table border=\"1\" class=\"dataframe\">\n",
       "  <thead>\n",
       "    <tr style=\"text-align: right;\">\n",
       "      <th></th>\n",
       "      <th>subject_id</th>\n",
       "      <th>hadm_id</th>\n",
       "      <th>seq_num</th>\n",
       "      <th>chartdate</th>\n",
       "      <th>icd_code</th>\n",
       "      <th>icd_version</th>\n",
       "      <th>ccsproc_code</th>\n",
       "    </tr>\n",
       "  </thead>\n",
       "  <tbody>\n",
       "    <tr>\n",
       "      <th>0</th>\n",
       "      <td>10000032</td>\n",
       "      <td>22595853</td>\n",
       "      <td>1</td>\n",
       "      <td>2180-05-07</td>\n",
       "      <td>5491</td>\n",
       "      <td>9</td>\n",
       "      <td>88</td>\n",
       "    </tr>\n",
       "    <tr>\n",
       "      <th>1</th>\n",
       "      <td>10000032</td>\n",
       "      <td>22841357</td>\n",
       "      <td>1</td>\n",
       "      <td>2180-06-27</td>\n",
       "      <td>5491</td>\n",
       "      <td>9</td>\n",
       "      <td>88</td>\n",
       "    </tr>\n",
       "    <tr>\n",
       "      <th>2</th>\n",
       "      <td>10000032</td>\n",
       "      <td>25742920</td>\n",
       "      <td>1</td>\n",
       "      <td>2180-08-06</td>\n",
       "      <td>5491</td>\n",
       "      <td>9</td>\n",
       "      <td>88</td>\n",
       "    </tr>\n",
       "    <tr>\n",
       "      <th>3</th>\n",
       "      <td>10000068</td>\n",
       "      <td>25022803</td>\n",
       "      <td>1</td>\n",
       "      <td>2160-03-03</td>\n",
       "      <td>8938</td>\n",
       "      <td>9</td>\n",
       "      <td>227</td>\n",
       "    </tr>\n",
       "    <tr>\n",
       "      <th>4</th>\n",
       "      <td>10000117</td>\n",
       "      <td>27988844</td>\n",
       "      <td>1</td>\n",
       "      <td>2183-09-19</td>\n",
       "      <td>0QS734Z</td>\n",
       "      <td>10</td>\n",
       "      <td>146</td>\n",
       "    </tr>\n",
       "    <tr>\n",
       "      <th>...</th>\n",
       "      <td>...</td>\n",
       "      <td>...</td>\n",
       "      <td>...</td>\n",
       "      <td>...</td>\n",
       "      <td>...</td>\n",
       "      <td>...</td>\n",
       "      <td>...</td>\n",
       "    </tr>\n",
       "    <tr>\n",
       "      <th>669181</th>\n",
       "      <td>19999840</td>\n",
       "      <td>21033226</td>\n",
       "      <td>5</td>\n",
       "      <td>2164-09-16</td>\n",
       "      <td>0331</td>\n",
       "      <td>9</td>\n",
       "      <td>4</td>\n",
       "    </tr>\n",
       "    <tr>\n",
       "      <th>669182</th>\n",
       "      <td>19999840</td>\n",
       "      <td>26071774</td>\n",
       "      <td>1</td>\n",
       "      <td>2164-07-25</td>\n",
       "      <td>8891</td>\n",
       "      <td>9</td>\n",
       "      <td>198</td>\n",
       "    </tr>\n",
       "    <tr>\n",
       "      <th>669183</th>\n",
       "      <td>19999840</td>\n",
       "      <td>26071774</td>\n",
       "      <td>2</td>\n",
       "      <td>2164-07-25</td>\n",
       "      <td>8841</td>\n",
       "      <td>9</td>\n",
       "      <td>188</td>\n",
       "    </tr>\n",
       "    <tr>\n",
       "      <th>669184</th>\n",
       "      <td>19999987</td>\n",
       "      <td>23865745</td>\n",
       "      <td>1</td>\n",
       "      <td>2145-11-07</td>\n",
       "      <td>8841</td>\n",
       "      <td>9</td>\n",
       "      <td>188</td>\n",
       "    </tr>\n",
       "    <tr>\n",
       "      <th>669185</th>\n",
       "      <td>19999987</td>\n",
       "      <td>23865745</td>\n",
       "      <td>2</td>\n",
       "      <td>2145-11-02</td>\n",
       "      <td>9671</td>\n",
       "      <td>9</td>\n",
       "      <td>216</td>\n",
       "    </tr>\n",
       "  </tbody>\n",
       "</table>\n",
       "<p>669186 rows × 7 columns</p>\n",
       "</div>"
      ],
      "text/plain": [
       "        subject_id   hadm_id  seq_num   chartdate icd_code  icd_version  \\\n",
       "0         10000032  22595853        1  2180-05-07     5491            9   \n",
       "1         10000032  22841357        1  2180-06-27     5491            9   \n",
       "2         10000032  25742920        1  2180-08-06     5491            9   \n",
       "3         10000068  25022803        1  2160-03-03     8938            9   \n",
       "4         10000117  27988844        1  2183-09-19  0QS734Z           10   \n",
       "...            ...       ...      ...         ...      ...          ...   \n",
       "669181    19999840  21033226        5  2164-09-16     0331            9   \n",
       "669182    19999840  26071774        1  2164-07-25     8891            9   \n",
       "669183    19999840  26071774        2  2164-07-25     8841            9   \n",
       "669184    19999987  23865745        1  2145-11-07     8841            9   \n",
       "669185    19999987  23865745        2  2145-11-02     9671            9   \n",
       "\n",
       "       ccsproc_code  \n",
       "0                88  \n",
       "1                88  \n",
       "2                88  \n",
       "3               227  \n",
       "4               146  \n",
       "...             ...  \n",
       "669181            4  \n",
       "669182          198  \n",
       "669183          188  \n",
       "669184          188  \n",
       "669185          216  \n",
       "\n",
       "[669186 rows x 7 columns]"
      ]
     },
     "execution_count": 193,
     "metadata": {},
     "output_type": "execute_result"
    }
   ],
   "source": [
    "procedures_icd['ccsproc_code'] = procedures_icd.apply(map_icd_to_ccscm, axis=1)\n",
    "procedures_icd"
   ]
  },
  {
   "cell_type": "code",
   "execution_count": 126,
   "metadata": {},
   "outputs": [
    {
     "data": {
      "text/plain": [
       "0"
      ]
     },
     "execution_count": 126,
     "metadata": {},
     "output_type": "execute_result"
    }
   ],
   "source": [
    "# 변환 후에 발생하는 결측치 전무함\n",
    "procedures_icd['ccsproc_code'].isnull().sum()"
   ]
  },
  {
   "cell_type": "code",
   "execution_count": 194,
   "metadata": {},
   "outputs": [
    {
     "data": {
      "text/plain": [
       "'Abdominal paracentesis\"'"
      ]
     },
     "execution_count": 194,
     "metadata": {},
     "output_type": "execute_result"
    }
   ],
   "source": [
    "ccsproc = InnerMap.load(\"CCSPROC\")\n",
    "ccsproc.lookup(\"88\")"
   ]
  },
  {
   "cell_type": "code",
   "execution_count": 215,
   "metadata": {},
   "outputs": [],
   "source": [
    "# ccscode detail 추가\n",
    "ccsproc = InnerMap.load(\"CCSPROC\")\n",
    "\n",
    "def safe_lookup(code):\n",
    "    try : \n",
    "        result = ccsproc.lookup(code)\n",
    "        if result is None : \n",
    "            return None\n",
    "        return result\n",
    "\n",
    "    except Exception as e:\n",
    "        return 'Unknown'\n",
    "    \n",
    "def remove_special_word(text):\n",
    "    if pd.isna(text):\n",
    "        return text\n",
    "    return text.replace('\"', '').replace(\"'\", '')\n",
    "\n",
    "procedures_icd['ccsproc_description'] = procedures_icd['ccsproc_code'].apply(safe_lookup)\n",
    "procedures_icd['ccsproc_description'] = procedures_icd['ccsproc_description'].apply(remove_special_word)"
   ]
  },
  {
   "cell_type": "code",
   "execution_count": 216,
   "metadata": {},
   "outputs": [
    {
     "name": "stdout",
     "output_type": "stream",
     "text": [
      "ccsproc_code 미매칭 사례 :  39\n"
     ]
    }
   ],
   "source": [
    "print('ccsproc_code 미매칭 사례 : ', len(procedures_icd[procedures_icd['ccsproc_description']=='Unknown']))"
   ]
  },
  {
   "cell_type": "code",
   "execution_count": 217,
   "metadata": {},
   "outputs": [
    {
     "data": {
      "text/html": [
       "<div>\n",
       "<style scoped>\n",
       "    .dataframe tbody tr th:only-of-type {\n",
       "        vertical-align: middle;\n",
       "    }\n",
       "\n",
       "    .dataframe tbody tr th {\n",
       "        vertical-align: top;\n",
       "    }\n",
       "\n",
       "    .dataframe thead th {\n",
       "        text-align: right;\n",
       "    }\n",
       "</style>\n",
       "<table border=\"1\" class=\"dataframe\">\n",
       "  <thead>\n",
       "    <tr style=\"text-align: right;\">\n",
       "      <th></th>\n",
       "      <th>subject_id</th>\n",
       "      <th>hadm_id</th>\n",
       "      <th>seq_num</th>\n",
       "      <th>chartdate</th>\n",
       "      <th>icd_code</th>\n",
       "      <th>icd_version</th>\n",
       "      <th>ccsproc_code</th>\n",
       "      <th>ccsproc_description</th>\n",
       "    </tr>\n",
       "  </thead>\n",
       "  <tbody>\n",
       "    <tr>\n",
       "      <th>0</th>\n",
       "      <td>10000032</td>\n",
       "      <td>22595853</td>\n",
       "      <td>1</td>\n",
       "      <td>2180-05-07</td>\n",
       "      <td>5491</td>\n",
       "      <td>9</td>\n",
       "      <td>88</td>\n",
       "      <td>Abdominal paracentesis</td>\n",
       "    </tr>\n",
       "    <tr>\n",
       "      <th>1</th>\n",
       "      <td>10000032</td>\n",
       "      <td>22841357</td>\n",
       "      <td>1</td>\n",
       "      <td>2180-06-27</td>\n",
       "      <td>5491</td>\n",
       "      <td>9</td>\n",
       "      <td>88</td>\n",
       "      <td>Abdominal paracentesis</td>\n",
       "    </tr>\n",
       "    <tr>\n",
       "      <th>2</th>\n",
       "      <td>10000032</td>\n",
       "      <td>25742920</td>\n",
       "      <td>1</td>\n",
       "      <td>2180-08-06</td>\n",
       "      <td>5491</td>\n",
       "      <td>9</td>\n",
       "      <td>88</td>\n",
       "      <td>Abdominal paracentesis</td>\n",
       "    </tr>\n",
       "    <tr>\n",
       "      <th>3</th>\n",
       "      <td>10000068</td>\n",
       "      <td>25022803</td>\n",
       "      <td>1</td>\n",
       "      <td>2160-03-03</td>\n",
       "      <td>8938</td>\n",
       "      <td>9</td>\n",
       "      <td>227</td>\n",
       "      <td>Other diagnostic procedures</td>\n",
       "    </tr>\n",
       "    <tr>\n",
       "      <th>4</th>\n",
       "      <td>10000117</td>\n",
       "      <td>27988844</td>\n",
       "      <td>1</td>\n",
       "      <td>2183-09-19</td>\n",
       "      <td>0QS734Z</td>\n",
       "      <td>10</td>\n",
       "      <td>146</td>\n",
       "      <td>Treatment; fracture or dislocation of hip and ...</td>\n",
       "    </tr>\n",
       "    <tr>\n",
       "      <th>5</th>\n",
       "      <td>10000280</td>\n",
       "      <td>25852320</td>\n",
       "      <td>1</td>\n",
       "      <td>2151-03-18</td>\n",
       "      <td>8938</td>\n",
       "      <td>9</td>\n",
       "      <td>227</td>\n",
       "      <td>Other diagnostic procedures</td>\n",
       "    </tr>\n",
       "    <tr>\n",
       "      <th>6</th>\n",
       "      <td>10000560</td>\n",
       "      <td>28979390</td>\n",
       "      <td>1</td>\n",
       "      <td>2189-10-16</td>\n",
       "      <td>5551</td>\n",
       "      <td>9</td>\n",
       "      <td>104</td>\n",
       "      <td>Nephrectomy; partial or complete</td>\n",
       "    </tr>\n",
       "    <tr>\n",
       "      <th>7</th>\n",
       "      <td>10000635</td>\n",
       "      <td>26134563</td>\n",
       "      <td>1</td>\n",
       "      <td>2136-06-19</td>\n",
       "      <td>3734</td>\n",
       "      <td>9</td>\n",
       "      <td>49</td>\n",
       "      <td>Other OR heart procedures</td>\n",
       "    </tr>\n",
       "    <tr>\n",
       "      <th>8</th>\n",
       "      <td>10000635</td>\n",
       "      <td>26134563</td>\n",
       "      <td>2</td>\n",
       "      <td>2136-06-19</td>\n",
       "      <td>3728</td>\n",
       "      <td>9</td>\n",
       "      <td>62</td>\n",
       "      <td>Other diagnostic cardiovascular procedures</td>\n",
       "    </tr>\n",
       "    <tr>\n",
       "      <th>9</th>\n",
       "      <td>10000635</td>\n",
       "      <td>26134563</td>\n",
       "      <td>3</td>\n",
       "      <td>2136-06-19</td>\n",
       "      <td>3727</td>\n",
       "      <td>9</td>\n",
       "      <td>62</td>\n",
       "      <td>Other diagnostic cardiovascular procedures</td>\n",
       "    </tr>\n",
       "  </tbody>\n",
       "</table>\n",
       "</div>"
      ],
      "text/plain": [
       "   subject_id   hadm_id  seq_num   chartdate icd_code  icd_version  \\\n",
       "0    10000032  22595853        1  2180-05-07     5491            9   \n",
       "1    10000032  22841357        1  2180-06-27     5491            9   \n",
       "2    10000032  25742920        1  2180-08-06     5491            9   \n",
       "3    10000068  25022803        1  2160-03-03     8938            9   \n",
       "4    10000117  27988844        1  2183-09-19  0QS734Z           10   \n",
       "5    10000280  25852320        1  2151-03-18     8938            9   \n",
       "6    10000560  28979390        1  2189-10-16     5551            9   \n",
       "7    10000635  26134563        1  2136-06-19     3734            9   \n",
       "8    10000635  26134563        2  2136-06-19     3728            9   \n",
       "9    10000635  26134563        3  2136-06-19     3727            9   \n",
       "\n",
       "  ccsproc_code                                ccsproc_description  \n",
       "0           88                             Abdominal paracentesis  \n",
       "1           88                             Abdominal paracentesis  \n",
       "2           88                             Abdominal paracentesis  \n",
       "3          227                        Other diagnostic procedures  \n",
       "4          146  Treatment; fracture or dislocation of hip and ...  \n",
       "5          227                        Other diagnostic procedures  \n",
       "6          104                   Nephrectomy; partial or complete  \n",
       "7           49                          Other OR heart procedures  \n",
       "8           62         Other diagnostic cardiovascular procedures  \n",
       "9           62         Other diagnostic cardiovascular procedures  "
      ]
     },
     "execution_count": 217,
     "metadata": {},
     "output_type": "execute_result"
    }
   ],
   "source": [
    "procedures_icd.head(10)"
   ]
  },
  {
   "cell_type": "code",
   "execution_count": 1,
   "metadata": {},
   "outputs": [
    {
     "name": "stdout",
     "output_type": "stream",
     "text": [
      "INFO: Pandarallel will run on 24 workers.\n",
      "INFO: Pandarallel will use standard multiprocessing data transfer (pipe) to transfer data between the main process and workers.\n",
      "\n",
      "WARNING: You are on Windows. If you detect any issue with pandarallel, be sure you checked out the Troubleshooting page:\n",
      "https://nalepae.github.io/pandarallel/troubleshooting/\n",
      "finish basic patient information parsing : 28.27490210533142s\n",
      "finish parsing diagnoses_icd : 40.918240547180176s\n",
      "finish parsing procedures_icd : 21.990015745162964s\n",
      "finish parsing prescriptions : 160.89457845687866s\n",
      "finish parsing labevents : 734.1699728965759s\n"
     ]
    },
    {
     "name": "stderr",
     "output_type": "stream",
     "text": [
      "Mapping codes: 100%|██████████| 180733/180733 [04:25<00:00, 681.10it/s] \n"
     ]
    }
   ],
   "source": [
    "from pyhealth.datasets import MIMIC4Dataset\n",
    "dataset = MIMIC4Dataset(\n",
    "        root=\"C:/Users/gangmin/dahs/data/mimic/test\",\n",
    "        tables=[\"diagnoses_icd\", \"procedures_icd\", \"prescriptions\", \"labevents\"],\n",
    "        code_mapping={\"NDC\": (\"ATC\", {\"target_kwargs\": {\"level\": 5}})},\n",
    "    )"
   ]
  },
  {
   "cell_type": "code",
   "execution_count": 247,
   "metadata": {},
   "outputs": [
    {
     "name": "stdout",
     "output_type": "stream",
     "text": [
      "\n",
      "dataset.patients: patient_id -> <Patient>\n",
      "\n",
      "<Patient>\n",
      "    - visits: visit_id -> <Visit> \n",
      "    - other patient-level info\n",
      "    \n",
      "    <Visit>\n",
      "        - event_list_dict: table_name -> List[Event]\n",
      "        - other visit-level info\n",
      "    \n",
      "        <Event>\n",
      "            - code: str\n",
      "            - other event-level info\n",
      "\n"
     ]
    }
   ],
   "source": [
    "dataset.info()"
   ]
  },
  {
   "cell_type": "code",
   "execution_count": 248,
   "metadata": {},
   "outputs": [
    {
     "data": {
      "text/plain": [
       "['procedures_icd', 'prescriptions', 'labevents', 'diagnoses_icd']"
      ]
     },
     "execution_count": 248,
     "metadata": {},
     "output_type": "execute_result"
    }
   ],
   "source": [
    "dataset.available_tables"
   ]
  },
  {
   "cell_type": "code",
   "execution_count": 249,
   "metadata": {},
   "outputs": [
    {
     "name": "stdout",
     "output_type": "stream",
     "text": [
      "\n",
      "Statistics of base dataset (dev=False):\n",
      "\t- Dataset: MIMIC4Dataset\n",
      "\t- Number of patients: 180733\n",
      "\t- Number of visits: 431231\n",
      "\t- Number of visits per patient: 2.3860\n",
      "\t- Number of events per visit in diagnoses_icd: 11.0296\n",
      "\t- Number of events per visit in procedures_icd: 1.5518\n",
      "\t- Number of events per visit in prescriptions: 54.2354\n",
      "\t- Number of events per visit in labevents: 140.5324\n",
      "\n"
     ]
    },
    {
     "data": {
      "text/plain": [
       "'\\nStatistics of base dataset (dev=False):\\n\\t- Dataset: MIMIC4Dataset\\n\\t- Number of patients: 180733\\n\\t- Number of visits: 431231\\n\\t- Number of visits per patient: 2.3860\\n\\t- Number of events per visit in diagnoses_icd: 11.0296\\n\\t- Number of events per visit in procedures_icd: 1.5518\\n\\t- Number of events per visit in prescriptions: 54.2354\\n\\t- Number of events per visit in labevents: 140.5324\\n'"
      ]
     },
     "execution_count": 249,
     "metadata": {},
     "output_type": "execute_result"
    }
   ],
   "source": [
    "dataset.stat()"
   ]
  },
  {
   "cell_type": "code",
   "execution_count": 280,
   "metadata": {},
   "outputs": [
    {
     "name": "stdout",
     "output_type": "stream",
     "text": [
      "['10000032', '10000068', '10000084', '10000108', '10000117', '10000248', '10000280', '10000560', '10000635', '10000719', '10000764', '10000826', '10000883', '10000886', '10000904', '10000935', '10000980', '10001176', '10001186', '10001217', '10001319', '10001338', '10001401', '10001472', '10001492', '10001663', '10001667', '10001725', '10001843', '10001860']\n"
     ]
    }
   ],
   "source": [
    "patient_dict = dataset.patients\n",
    "print(list(patient_dict.keys())[:30])"
   ]
  },
  {
   "cell_type": "markdown",
   "metadata": {},
   "source": [
    "### 환자 한명씩 조회"
   ]
  },
  {
   "cell_type": "code",
   "execution_count": 283,
   "metadata": {},
   "outputs": [
    {
     "data": {
      "text/plain": [
       "('F', datetime.datetime(2142, 5, 21, 0, 0))"
      ]
     },
     "execution_count": 283,
     "metadata": {},
     "output_type": "execute_result"
    }
   ],
   "source": [
    "patient = patient_dict[\"10001186\"]\n",
    "patient.gender, patient.birth_datetime"
   ]
  },
  {
   "cell_type": "code",
   "execution_count": 284,
   "metadata": {},
   "outputs": [
    {
     "name": "stdout",
     "output_type": "stream",
     "text": [
      "['21334040', '24016413', '24906418']\n"
     ]
    }
   ],
   "source": [
    "# get the visit list of this patient\n",
    "visit_dict = patient.visits\n",
    "print (list(visit_dict.keys()))"
   ]
  },
  {
   "cell_type": "code",
   "execution_count": 286,
   "metadata": {},
   "outputs": [
    {
     "data": {
      "text/plain": [
       "(datetime.datetime(2188, 9, 24, 15, 33),\n",
       " ['diagnoses_icd', 'procedures_icd', 'prescriptions', 'labevents'])"
      ]
     },
     "execution_count": 286,
     "metadata": {},
     "output_type": "execute_result"
    }
   ],
   "source": [
    "# get the first visit\n",
    "visit = visit_dict['24906418']\n",
    "visit.encounter_time, visit.available_tables"
   ]
  },
  {
   "cell_type": "code",
   "execution_count": 287,
   "metadata": {},
   "outputs": [
    {
     "data": {
      "text/plain": [
       "[Event with ICD9CM code 99832 from table diagnoses_icd,\n",
       " Event with ICD9CM code 5559 from table diagnoses_icd,\n",
       " Event with ICD9CM code V1085 from table diagnoses_icd,\n",
       " Event with ICD9CM code E8782 from table diagnoses_icd,\n",
       " Event with ICD9CM code 27800 from table diagnoses_icd,\n",
       " Event with ICD9CM code 6989 from table diagnoses_icd]"
      ]
     },
     "execution_count": 287,
     "metadata": {},
     "output_type": "execute_result"
    }
   ],
   "source": [
    "# get the diagnosis information in the visit\n",
    "visit.get_event_list('diagnoses_icd')"
   ]
  },
  {
   "cell_type": "code",
   "execution_count": 2,
   "metadata": {},
   "outputs": [],
   "source": [
    "def readmission_prediction_mimic4_fn(patient, time_window=15):\n",
    "    \"\"\"\n",
    "    Readmission prediction aims at predicting whether the patient will be readmitted\n",
    "        into hospital within time_window days based on the clinical information from\n",
    "        current visit (e.g., conditions and procedures).\n",
    "    \"\"\"\n",
    "    samples = []\n",
    "    \n",
    "    # we will drop the last visit\n",
    "    for i in range(len(patient) - 1):\n",
    "        visit = patient[i]\n",
    "        next_visit = patient[i + 1]\n",
    "\n",
    "        # obtain label: get time difference between current visit and next visit\n",
    "        time_diff = (next_visit.encounter_time - visit.encounter_time).days\n",
    "        readmission_label = 1 if time_diff < time_window else 0\n",
    "\n",
    "        # step 1: obtain features\n",
    "        conditions = visit.get_code_list(table=\"diagnoses_icd\")\n",
    "        procedures = visit.get_code_list(table=\"procedures_icd\")\n",
    "        drugs = visit.get_code_list(table=\"prescriptions\")\n",
    "\n",
    "        # step 2: exclusion criteria\n",
    "        # exclude: visits without condition, procedure, and drug code\n",
    "        if len(conditions) + len(procedures) + len(drugs) == 0: continue\n",
    "\n",
    "        # step 3: assemble the sample\n",
    "        samples.append(\n",
    "            {\n",
    "                \"visit_id\": visit.visit_id,\n",
    "                \"patient_id\": patient.patient_id,\n",
    "                \"conditions\": conditions,\n",
    "                \"procedures\": procedures,\n",
    "                \"drugs\": drugs,\n",
    "                \"label\": readmission_label,\n",
    "            }\n",
    "        )\n",
    "\n",
    "    return samples"
   ]
  },
  {
   "cell_type": "markdown",
   "metadata": {},
   "source": [
    "### 전체 환자 조회"
   ]
  },
  {
   "cell_type": "code",
   "execution_count": 3,
   "metadata": {},
   "outputs": [],
   "source": [
    "def process_all_patients(patient_dict, time_window=15):\n",
    "    all_samples = []\n",
    "    for patient_id, patient in patient_dict.items():\n",
    "        patient_samples = readmission_prediction_mimic4_fn(patient, time_window)\n",
    "        all_samples.extend(patient_samples)\n",
    "    return all_samples"
   ]
  },
  {
   "cell_type": "code",
   "execution_count": 4,
   "metadata": {},
   "outputs": [],
   "source": [
    "patient_dict = dataset.patients\n",
    "all_readmission_samples = process_all_patients(patient_dict, time_window=15)"
   ]
  },
  {
   "cell_type": "code",
   "execution_count": 302,
   "metadata": {},
   "outputs": [
    {
     "name": "stdout",
     "output_type": "stream",
     "text": [
      "{'visit_id': '22595853', 'patient_id': '10000032', 'conditions': ['5723', '78959', '5715', '07070', '496', '29680', '30981', 'V1582'], 'procedures': ['5491'], 'drugs': ['B01A', 'J07B', 'A12B', 'C03D', 'C03C', 'N02B', 'J05A', 'R03A', 'N07B', 'R03B'], 'label': 0}\n",
      "{'visit_id': '22841357', 'patient_id': '10000032', 'conditions': ['07071', '78959', '2875', '2761', '496', '5715', 'V08', '3051'], 'procedures': ['5491'], 'drugs': ['J07B', 'B01A', 'C03C', 'A07A', 'A06A', 'A07X', 'N02B', 'J05A', 'R03A', 'J01E', 'R03B', 'B05A'], 'label': 0}\n",
      "{'visit_id': '25742920', 'patient_id': '10000032', 'conditions': ['07054', '78959', 'V462', '5715', '2767', '2761', '496', 'V08', '3051', '78791'], 'procedures': ['5491'], 'drugs': ['N02A', 'A02A', 'A12A', 'R03A', 'B01A', 'A06A', 'R03B', 'J05A', 'J07B', 'A07A', 'V06D', 'A10A', 'V04C', 'B05A', 'N06A', 'N05C', 'C03C'], 'label': 1}\n",
      "{'visit_id': '23052089', 'patient_id': '10000084', 'conditions': ['G3183', 'F0280', 'R441', 'R296', 'E785', 'Z8546'], 'procedures': [], 'drugs': ['B01A', 'A06A', 'N04B', 'C10A', 'N05A', 'N06D'], 'label': 0}\n",
      "{'visit_id': '22927623', 'patient_id': '10000117', 'conditions': ['R1310', 'R0989', 'K31819', 'K219', 'K449', 'F419', 'I341', 'M810', 'Z87891'], 'procedures': [], 'drugs': ['B01A'], 'label': 0}\n",
      "{'visit_id': '20032235', 'patient_id': '10000826', 'conditions': ['5712', '486', '78959', '5723', '5990', '2639', '2761', '51189', '5711', '2768', '30391', '56409', '2819', '30000'], 'procedures': ['5491'], 'drugs': ['B01A', 'B05X', 'N02A', 'N05B', 'A11D', 'V04C', 'B03B', 'A04A', 'C03C', 'N07B', 'C05A', 'D04A', 'A12C', 'A06A', 'A09A', 'A08A', 'G04B', 'H03A', 'D01A', 'D11A', 'A07X', 'G01A', 'C02A', 'C03A', 'C02L', 'J01C', 'A11C', 'A12A', 'R06A', 'B03A', 'S03A', 'A12B', 'C10A', 'S01X', 'R03D', 'V03A', 'A01A', 'A07F', 'B05B', 'C05B', 'C05C', 'D05B', 'D07A', 'D07X', 'R07A', 'N01B', 'N02B', 'N05C', 'D09A', 'C01A', 'N02C', 'C01D', 'A07B', 'G03G', 'A03B', 'A03C', 'B05C', 'C03B', 'D08A', 'B02B', 'J01M', 'B05A'], 'label': 1}\n",
      "{'visit_id': '21086876', 'patient_id': '10000826', 'conditions': ['5711', '99591', '78959', '2761', '5990', '5119', '5710', '30391', '3051'], 'procedures': ['5491'], 'drugs': ['V04C', 'B03B', 'N07B', 'A11D', 'N02A', 'B05A', 'B05X', 'J01D', 'A04A', 'A12C', 'C03D', 'C05A', 'D04A', 'B01A', 'A06A', 'B02B', 'B05B', 'C05B', 'R05C'], 'label': 1}\n",
      "{'visit_id': '25221576', 'patient_id': '10000883', 'conditions': ['29633', '30000'], 'procedures': [], 'drugs': ['N05B', 'N02B', 'N06A', 'N03A', 'R06A'], 'label': 1}\n",
      "{'visit_id': '21738619', 'patient_id': '10000935', 'conditions': ['78701', '7862', '78060', '28860', '27651', '42789', '7936', '79319', '311', '2724', '2662', '7210', '71590', 'V1582', 'V5864', 'V453'], 'procedures': [], 'drugs': ['N06A', 'C10A', 'B01A', 'B05X', 'B05B', 'C05B', 'R03A', 'N03A', 'M03B', 'J07B'], 'label': 1}\n",
      "{'visit_id': '24955974', 'patient_id': '10000935', 'conditions': ['99832', '2768', 'E8788'], 'procedures': ['8938'], 'drugs': [], 'label': 0}\n"
     ]
    }
   ],
   "source": [
    "for sample in all_readmission_samples[:10]:\n",
    "    print(sample)"
   ]
  },
  {
   "cell_type": "code",
   "execution_count": 7,
   "metadata": {},
   "outputs": [
    {
     "data": {
      "text/html": [
       "<div>\n",
       "<style scoped>\n",
       "    .dataframe tbody tr th:only-of-type {\n",
       "        vertical-align: middle;\n",
       "    }\n",
       "\n",
       "    .dataframe tbody tr th {\n",
       "        vertical-align: top;\n",
       "    }\n",
       "\n",
       "    .dataframe thead th {\n",
       "        text-align: right;\n",
       "    }\n",
       "</style>\n",
       "<table border=\"1\" class=\"dataframe\">\n",
       "  <thead>\n",
       "    <tr style=\"text-align: right;\">\n",
       "      <th></th>\n",
       "      <th>visit_id</th>\n",
       "      <th>patient_id</th>\n",
       "      <th>conditions</th>\n",
       "      <th>procedures</th>\n",
       "      <th>drugs</th>\n",
       "      <th>label</th>\n",
       "    </tr>\n",
       "  </thead>\n",
       "  <tbody>\n",
       "    <tr>\n",
       "      <th>0</th>\n",
       "      <td>22595853</td>\n",
       "      <td>10000032</td>\n",
       "      <td>[5723, 78959, 5715, 07070, 496, 29680, 30981, ...</td>\n",
       "      <td>[5491]</td>\n",
       "      <td>[B01AB01, J07BB02, A12BA01, C03DA01, C03CA01, ...</td>\n",
       "      <td>0</td>\n",
       "    </tr>\n",
       "    <tr>\n",
       "      <th>1</th>\n",
       "      <td>22841357</td>\n",
       "      <td>10000032</td>\n",
       "      <td>[07071, 78959, 2875, 2761, 496, 5715, V08, 3051]</td>\n",
       "      <td>[5491]</td>\n",
       "      <td>[J07BB02, B01AB01, C03CA01, A07AA11, A06AD11, ...</td>\n",
       "      <td>0</td>\n",
       "    </tr>\n",
       "    <tr>\n",
       "      <th>2</th>\n",
       "      <td>25742920</td>\n",
       "      <td>10000032</td>\n",
       "      <td>[07054, 78959, V462, 5715, 2767, 2761, 496, V0...</td>\n",
       "      <td>[5491]</td>\n",
       "      <td>[N02AX02, A02AC01, A12AA04, R03AC02, B01AB01, ...</td>\n",
       "      <td>1</td>\n",
       "    </tr>\n",
       "    <tr>\n",
       "      <th>3</th>\n",
       "      <td>23052089</td>\n",
       "      <td>10000084</td>\n",
       "      <td>[G3183, F0280, R441, R296, E785, Z8546]</td>\n",
       "      <td>[]</td>\n",
       "      <td>[B01AB01, A06AB06, A06AD15, N04BC05, N04BD02, ...</td>\n",
       "      <td>0</td>\n",
       "    </tr>\n",
       "    <tr>\n",
       "      <th>4</th>\n",
       "      <td>22927623</td>\n",
       "      <td>10000117</td>\n",
       "      <td>[R1310, R0989, K31819, K219, K449, F419, I341,...</td>\n",
       "      <td>[]</td>\n",
       "      <td>[B01AB01]</td>\n",
       "      <td>0</td>\n",
       "    </tr>\n",
       "    <tr>\n",
       "      <th>...</th>\n",
       "      <td>...</td>\n",
       "      <td>...</td>\n",
       "      <td>...</td>\n",
       "      <td>...</td>\n",
       "      <td>...</td>\n",
       "      <td>...</td>\n",
       "    </tr>\n",
       "    <tr>\n",
       "      <th>250398</th>\n",
       "      <td>29324445</td>\n",
       "      <td>19999784</td>\n",
       "      <td>[Z5111, C8331, D472, E876, I10, Z87891]</td>\n",
       "      <td>[3E04305]</td>\n",
       "      <td>[A06AB02, A06AG02, A06AD10, A06AD65, V06DC01, ...</td>\n",
       "      <td>1</td>\n",
       "    </tr>\n",
       "    <tr>\n",
       "      <th>250399</th>\n",
       "      <td>29355057</td>\n",
       "      <td>19999784</td>\n",
       "      <td>[Z5111, C8599, D701, D472, M21372, Z87891, G83...</td>\n",
       "      <td>[3E04305]</td>\n",
       "      <td>[B01AB05, J07BB02, V06DC01, B05XA02, B01AB01, ...</td>\n",
       "      <td>0</td>\n",
       "    </tr>\n",
       "    <tr>\n",
       "      <th>250400</th>\n",
       "      <td>29889147</td>\n",
       "      <td>19999784</td>\n",
       "      <td>[Z5111, C8599, B1910, D472, Z87891, F1290, E87...</td>\n",
       "      <td>[3E04305]</td>\n",
       "      <td>[V06DC01, B05XA02, B01AB01, N02AA05, N05BA01, ...</td>\n",
       "      <td>0</td>\n",
       "    </tr>\n",
       "    <tr>\n",
       "      <th>250401</th>\n",
       "      <td>25744818</td>\n",
       "      <td>19999828</td>\n",
       "      <td>[T8141XA, E1110, K632, D682, L02211, T83728A, ...</td>\n",
       "      <td>[0J980ZZ, 0WPF0JZ, 05HY33Z]</td>\n",
       "      <td>[J07BB02, B05XA03, B05XA01, A10AB01, A10AD01, ...</td>\n",
       "      <td>1</td>\n",
       "    </tr>\n",
       "    <tr>\n",
       "      <th>250402</th>\n",
       "      <td>21033226</td>\n",
       "      <td>19999840</td>\n",
       "      <td>[3453, 51881, 5070, 5180, 42741, 43821, 43811,...</td>\n",
       "      <td>[9604, 9672, 966, 0331]</td>\n",
       "      <td>[N02BA01, C10AA01, H02AA02, B05XA03, N05BA06, ...</td>\n",
       "      <td>1</td>\n",
       "    </tr>\n",
       "  </tbody>\n",
       "</table>\n",
       "<p>250403 rows × 6 columns</p>\n",
       "</div>"
      ],
      "text/plain": [
       "        visit_id patient_id  \\\n",
       "0       22595853   10000032   \n",
       "1       22841357   10000032   \n",
       "2       25742920   10000032   \n",
       "3       23052089   10000084   \n",
       "4       22927623   10000117   \n",
       "...          ...        ...   \n",
       "250398  29324445   19999784   \n",
       "250399  29355057   19999784   \n",
       "250400  29889147   19999784   \n",
       "250401  25744818   19999828   \n",
       "250402  21033226   19999840   \n",
       "\n",
       "                                               conditions  \\\n",
       "0       [5723, 78959, 5715, 07070, 496, 29680, 30981, ...   \n",
       "1        [07071, 78959, 2875, 2761, 496, 5715, V08, 3051]   \n",
       "2       [07054, 78959, V462, 5715, 2767, 2761, 496, V0...   \n",
       "3                 [G3183, F0280, R441, R296, E785, Z8546]   \n",
       "4       [R1310, R0989, K31819, K219, K449, F419, I341,...   \n",
       "...                                                   ...   \n",
       "250398            [Z5111, C8331, D472, E876, I10, Z87891]   \n",
       "250399  [Z5111, C8599, D701, D472, M21372, Z87891, G83...   \n",
       "250400  [Z5111, C8599, B1910, D472, Z87891, F1290, E87...   \n",
       "250401  [T8141XA, E1110, K632, D682, L02211, T83728A, ...   \n",
       "250402  [3453, 51881, 5070, 5180, 42741, 43821, 43811,...   \n",
       "\n",
       "                         procedures  \\\n",
       "0                            [5491]   \n",
       "1                            [5491]   \n",
       "2                            [5491]   \n",
       "3                                []   \n",
       "4                                []   \n",
       "...                             ...   \n",
       "250398                    [3E04305]   \n",
       "250399                    [3E04305]   \n",
       "250400                    [3E04305]   \n",
       "250401  [0J980ZZ, 0WPF0JZ, 05HY33Z]   \n",
       "250402      [9604, 9672, 966, 0331]   \n",
       "\n",
       "                                                    drugs  label  \n",
       "0       [B01AB01, J07BB02, A12BA01, C03DA01, C03CA01, ...      0  \n",
       "1       [J07BB02, B01AB01, C03CA01, A07AA11, A06AD11, ...      0  \n",
       "2       [N02AX02, A02AC01, A12AA04, R03AC02, B01AB01, ...      1  \n",
       "3       [B01AB01, A06AB06, A06AD15, N04BC05, N04BD02, ...      0  \n",
       "4                                               [B01AB01]      0  \n",
       "...                                                   ...    ...  \n",
       "250398  [A06AB02, A06AG02, A06AD10, A06AD65, V06DC01, ...      1  \n",
       "250399  [B01AB05, J07BB02, V06DC01, B05XA02, B01AB01, ...      0  \n",
       "250400  [V06DC01, B05XA02, B01AB01, N02AA05, N05BA01, ...      0  \n",
       "250401  [J07BB02, B05XA03, B05XA01, A10AB01, A10AD01, ...      1  \n",
       "250402  [N02BA01, C10AA01, H02AA02, B05XA03, N05BA06, ...      1  \n",
       "\n",
       "[250403 rows x 6 columns]"
      ]
     },
     "execution_count": 7,
     "metadata": {},
     "output_type": "execute_result"
    }
   ],
   "source": [
    "readmission_df = pd.DataFrame(all_readmission_samples)\n",
    "readmission_df"
   ]
  },
  {
   "cell_type": "code",
   "execution_count": 309,
   "metadata": {},
   "outputs": [
    {
     "data": {
      "text/plain": [
       "1    134544\n",
       "0    115859\n",
       "Name: label, dtype: int64"
      ]
     },
     "execution_count": 309,
     "metadata": {},
     "output_type": "execute_result"
    }
   ],
   "source": [
    "readmission_df['label'].value_counts()"
   ]
  }
 ],
 "metadata": {
  "kernelspec": {
   "display_name": "medical",
   "language": "python",
   "name": "python3"
  },
  "language_info": {
   "codemirror_mode": {
    "name": "ipython",
    "version": 3
   },
   "file_extension": ".py",
   "mimetype": "text/x-python",
   "name": "python",
   "nbconvert_exporter": "python",
   "pygments_lexer": "ipython3",
   "version": "3.9.19"
  }
 },
 "nbformat": 4,
 "nbformat_minor": 2
}
